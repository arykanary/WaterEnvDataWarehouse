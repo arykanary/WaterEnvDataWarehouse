{
 "cells": [
  {
   "attachments": {},
   "cell_type": "markdown",
   "id": "78625b80",
   "metadata": {},
   "source": [
    "# Reading data"
   ]
  },
  {
   "cell_type": "code",
   "execution_count": 1,
   "id": "6846eeae",
   "metadata": {},
   "outputs": [],
   "source": [
    "import matplotlib.pyplot as plt\n",
    "from datetime import datetime\n",
    "import numpy as np\n",
    "import os"
   ]
  },
  {
   "cell_type": "code",
   "execution_count": 2,
   "id": "78e5e557",
   "metadata": {},
   "outputs": [],
   "source": [
    "import psycopg2\n",
    "import pandas as pd\n",
    "\n",
    "conn_string = \"host='localhost' dbname='weather_env' user='postgres' password='postgres'\"\n",
    "conn = psycopg2.connect(conn_string)\n",
    "cur = conn.cursor()\n",
    "cur.execute(\"\"\"SELECT * FROM environment_data.pivoted;\"\"\")\n",
    "records = cur.fetchall()\n",
    "cur.close()\n",
    "df = pd.DataFrame(records, columns=[x[0] for x in cur.description])\n",
    "df.index = pd.to_datetime(df[['measure_year', 'measure_month', 'measure_day']].rename({'measure_year': 'year', 'measure_month': 'month', 'measure_day': 'day'}, axis=1))"
   ]
  },
  {
   "attachments": {},
   "cell_type": "markdown",
   "id": "cd97b4f8",
   "metadata": {},
   "source": [
    "# Basic statistics"
   ]
  },
  {
   "cell_type": "code",
   "execution_count": null,
   "id": "b39ea885",
   "metadata": {},
   "outputs": [],
   "source": [
    "ddf = df.describe([.01, .10, .25, .5, .75, .90, .99]).T.sort_values('count')\n",
    "ddf"
   ]
  },
  {
   "attachments": {},
   "cell_type": "markdown",
   "id": "2b3bdff4",
   "metadata": {},
   "source": [
    "# Creating normal plots"
   ]
  },
  {
   "cell_type": "code",
   "execution_count": null,
   "id": "c485816c",
   "metadata": {},
   "outputs": [],
   "source": [
    "\n",
    "index = pd.DatetimeIndex([datetime(y, m, d) for y, m, d in df[['measure_year', 'measure_month', 'measure_day']].values])\n",
    "\n",
    "for name in df.columns:\n",
    "    plt.plot(index, df[name])\n",
    "    plt.title(name)\n",
    "    plt.show()"
   ]
  },
  {
   "cell_type": "code",
   "execution_count": null,
   "id": "613c1bb9",
   "metadata": {},
   "outputs": [],
   "source": [
    "for name in df.columns[3:]:\n",
    "    plt.hist(df[name], 100, density=True, histtype='step')\n",
    "    plt.title(name)\n",
    "    plt.show()"
   ]
  },
  {
   "cell_type": "code",
   "execution_count": null,
   "id": "7f4966a4",
   "metadata": {},
   "outputs": [],
   "source": [
    "df[['arnhem_waterlevel']].groupby([df.index.month, df.index.day]).mean().plot()\n",
    "df[['arnhem_waterlevel']].groupby(df.index.isocalendar().week).mean().plot()\n",
    "plt.show()"
   ]
  },
  {
   "cell_type": "code",
   "execution_count": null,
   "id": "a015987e",
   "metadata": {},
   "outputs": [],
   "source": [
    "for name in df.columns[3:]:\n",
    "    # not equidistant so incorrect\n",
    "    plt.magnitude_spectrum(df[name].dropna(), 1/24*3600)\n",
    "    plt.title(name)\n",
    "    plt.show()"
   ]
  },
  {
   "attachments": {},
   "cell_type": "markdown",
   "id": "fc96feb4",
   "metadata": {},
   "source": [
    "# Correlation\n",
    "\n",
    "With np.corrcoef"
   ]
  },
  {
   "cell_type": "code",
   "execution_count": null,
   "id": "d294786e",
   "metadata": {},
   "outputs": [],
   "source": [
    "#.drop(['measure_year', 'measure_month', 'measure_day'], axis=1)\n",
    "corr_df = df.corr()\n",
    "corr_df.loc[corr_df.abs().sort_values('arnhem_waterlevel').index, 'arnhem_waterlevel'].iloc[::-1]"
   ]
  },
  {
   "cell_type": "code",
   "execution_count": null,
   "id": "1c305256",
   "metadata": {},
   "outputs": [],
   "source": [
    "fig, ax = plt.subplots(figsize=(10, 10))\n",
    "im = ax.imshow(corr_df.values)\n",
    "im.set_clim(-1, 1)\n",
    "\n",
    "ax.xaxis.set(ticks=list(range(len(corr_df.columns))), ticklabels=corr_df.columns)\n",
    "plt.xticks(rotation=90)\n",
    "ax.yaxis.set(ticks=list(range(len(corr_df.columns))), ticklabels=corr_df.columns)\n",
    "\n",
    "cbar = ax.figure.colorbar(im, ax=ax, format='% .2f')\n",
    "plt.show()"
   ]
  },
  {
   "attachments": {},
   "cell_type": "markdown",
   "id": "0716cd99",
   "metadata": {},
   "source": [
    "# Create correlation Shift\n",
    "\n",
    "With np.correlate full, doesn't make any sense when the the timestep is unequidistant"
   ]
  },
  {
   "cell_type": "code",
   "execution_count": null,
   "id": "c07e71d8",
   "metadata": {},
   "outputs": [],
   "source": [
    "shift_df = pd.DataFrame()\n",
    "cor_values = df.T  #drop(['measure_year', 'measure_month', 'measure_day'], axis=1).T\n",
    "\n",
    "for _, d1 in cor_values.iterrows():\n",
    "    for _, d2 in cor_values.iterrows():\n",
    "        if d1.name != d2.name:\n",
    "            print(d1.name, d2.name)\n",
    "            sub_df = pd.concat([d1, d2], axis=1).dropna()\n",
    "            subcor = np.correlate(*(sub_df.values.T), 'full')\n",
    "            \n",
    "            shift_df.loc[d1.name, d2.name] = np.argmax(subcor) - subcor.shape[0]/2\n",
    "shift_df"
   ]
  },
  {
   "cell_type": "code",
   "execution_count": null,
   "metadata": {},
   "outputs": [],
   "source": [
    "fig, ax = plt.subplots(figsize=(10, 10))\n",
    "im = ax.imshow(shift_df.values)\n",
    "im.set_clim(-1, 1)\n",
    "\n",
    "ax.xaxis.set(ticks=list(range(len(shift_df.columns))), ticklabels=shift_df.columns)\n",
    "plt.xticks(rotation=90)\n",
    "ax.yaxis.set(ticks=list(range(len(shift_df.columns))), ticklabels=shift_df.columns)\n",
    "\n",
    "cbar = ax.figure.colorbar(im, ax=ax, format='% .2f')\n",
    "plt.show()"
   ]
  },
  {
   "attachments": {},
   "cell_type": "markdown",
   "id": "a76e8c42",
   "metadata": {},
   "source": [
    "# Explain np.correlate\n",
    "\n",
    "np.correlate tells how much `b` is forward of `a`"
   ]
  },
  {
   "cell_type": "code",
   "execution_count": null,
   "id": "7276fb14",
   "metadata": {},
   "outputs": [],
   "source": [
    "x = np.linspace(0, 30, 300)\n",
    "a = np.sin((x/3))\n",
    "b = np.cos((x/3)+1.*np.pi)\n",
    "# b = np.cos((x/3Z)+.1*np.pi)\n",
    "\n",
    "plt.plot(x, a)\n",
    "plt.plot(x, b)\n",
    "plt.title('original comparison')\n",
    "plt.show()"
   ]
  },
  {
   "cell_type": "code",
   "execution_count": null,
   "id": "c979fb84",
   "metadata": {},
   "outputs": [],
   "source": [
    "cor = np.correlate(a, b, 'full')\n",
    "xc = np.linspace(0, cor.size, cor.size)\n",
    "xc -= xc.mean()\n",
    "xc = xc.round().astype(int)\n",
    "plt.plot(xc, cor)\n",
    "plt.title('correlation')\n",
    "plt.show()\n",
    "shift = xc[np.argmax(cor)]\n",
    "shift"
   ]
  },
  {
   "cell_type": "code",
   "execution_count": null,
   "id": "48e2dd36",
   "metadata": {},
   "outputs": [],
   "source": [
    "xb = x+shift*np.mean(np.diff(x))\n",
    "\n",
    "plt.plot(x, a)\n",
    "plt.plot(xb, b)\n",
    "plt.title(f'shifted b {shift} samples forward to match')\n",
    "plt.show()"
   ]
  },
  {
   "attachments": {},
   "cell_type": "markdown",
   "id": "a3030e8f",
   "metadata": {},
   "source": [
    "# Split in features and target"
   ]
  },
  {
   "cell_type": "code",
   "execution_count": 9,
   "id": "af1c4f4f",
   "metadata": {},
   "outputs": [
    {
     "name": "stderr",
     "output_type": "stream",
     "text": [
      "C:\\Users\\woute\\AppData\\Local\\Temp\\ipykernel_17232\\424169150.py:2: FutureWarning: The default dtype for empty Series will be 'object' instead of 'float64' in a future version. Specify a dtype explicitly to silence this warning.\n",
      "  max_dict = pd.Series()\n",
      "C:\\Users\\woute\\AppData\\Local\\Temp\\ipykernel_17232\\424169150.py:6: RuntimeWarning: divide by zero encountered in divide\n",
      "  max_dict[n] = np.divide(*df[ddf.loc[ddf['count'] > max(ddf['count'].values)*n].index[::-1]].dropna().shape)\n"
     ]
    },
    {
     "data": {
      "text/plain": [
       "1.00        inf\n",
       "0.56    11547.6\n",
       "0.50    11547.6\n",
       "0.51    11547.6\n",
       "0.52    11547.6\n",
       "0.53    11547.6\n",
       "0.54    11547.6\n",
       "0.55    11547.6\n",
       "0.49    11547.6\n",
       "0.57    11547.6\n",
       "0.59    11547.6\n",
       "0.60    11547.6\n",
       "0.61    11547.6\n",
       "0.62    11547.6\n",
       "0.58    11547.6\n",
       "0.45     6300.0\n",
       "0.42     6300.0\n",
       "0.43     6300.0\n",
       "0.44     6300.0\n",
       "0.46     6300.0\n",
       "dtype: float64"
      ]
     },
     "execution_count": 9,
     "metadata": {},
     "output_type": "execute_result"
    }
   ],
   "source": [
    "ddf = df.describe().T.sort_values('count')\n",
    "max_dict = pd.Series()\n",
    "\n",
    "for n in range(100):\n",
    "    n = (n+1)/100\n",
    "    max_dict[n] = np.divide(*df[ddf.loc[ddf['count'] > max(ddf['count'].values)*n].index[::-1]].dropna().shape)\n",
    "\n",
    "max_dict.loc[max_dict!=22996.0].sort_values(ascending=False).head(20)"
   ]
  },
  {
   "cell_type": "code",
   "execution_count": null,
   "id": "98873783",
   "metadata": {},
   "outputs": [],
   "source": [
    "ddf = df.describe().T.sort_values('count')\n",
    "n = 0.2\n",
    "subset = ddf.loc[ddf['count'] > max(ddf['count'].values)*n]\n",
    "subdf = df[subset.index[::-1]].dropna()\n",
    "desdf = subdf.describe().T\n",
    "desdf.index = pd.MultiIndex.from_tuples(map(lambda x: x.replace('_ch', '(ch)').replace('_de', '(de)').split('_'), desdf.index.values.tolist()))\n",
    "desdf.sort_index()"
   ]
  },
  {
   "cell_type": "code",
   "execution_count": null,
   "id": "0cac3a91",
   "metadata": {},
   "outputs": [],
   "source": [
    "target = subdf.pop('arnhem_waterlevel')\n",
    "features_name, target_name = subdf.columns.values, target.name\n",
    "features, target = subdf.values, target.values\n",
    "features.shape, target.shape"
   ]
  },
  {
   "attachments": {},
   "cell_type": "markdown",
   "id": "31b9347e",
   "metadata": {},
   "source": [
    "# Importance model"
   ]
  },
  {
   "cell_type": "code",
   "execution_count": null,
   "id": "85d5bbb6",
   "metadata": {},
   "outputs": [],
   "source": [
    "from sklearn.linear_model import Ridge, Lasso\n",
    "\n",
    "model = Ridge().fit(features, target)\n",
    "importance = np.abs(model.coef_)\n",
    "importance = model.coef_"
   ]
  },
  {
   "cell_type": "code",
   "execution_count": null,
   "id": "cf18d20e",
   "metadata": {},
   "outputs": [],
   "source": [
    "sorting = np.argsort(importance)\n",
    "\n",
    "plt.barh(width=importance[sorting], y=features_name[sorting])\n",
    "plt.title(\"Feature importances via coefficients\")\n",
    "plt.show()"
   ]
  },
  {
   "cell_type": "code",
   "execution_count": null,
   "id": "b3bcf164",
   "metadata": {},
   "outputs": [],
   "source": [
    "from sklearn.feature_selection import SelectFromModel\n",
    "\n",
    "threshold = np.sort(importance)[-5] + 0.01\n",
    "\n",
    "sfm = SelectFromModel(model, threshold=threshold).fit(features, target)\n",
    "print(f\"Features selected by SelectFromModel: {features_name[sfm.get_support()]}\")"
   ]
  },
  {
   "attachments": {},
   "cell_type": "markdown",
   "id": "8cf46ff5",
   "metadata": {},
   "source": [
    "# Imputation\n",
    "\n",
    "SimpleImputer is quick but the distribution changes to much\n",
    "\n",
    "KNNImputer is slow but the results are meh"
   ]
  },
  {
   "cell_type": "code",
   "execution_count": null,
   "id": "2c96f980",
   "metadata": {},
   "outputs": [],
   "source": [
    "from sklearn.impute import SimpleImputer, KNNImputer"
   ]
  },
  {
   "cell_type": "code",
   "execution_count": null,
   "id": "a70bfd1f",
   "metadata": {},
   "outputs": [],
   "source": [
    "df.dropna(subset=['arnhem_waterlevel'], inplace=True)"
   ]
  },
  {
   "cell_type": "code",
   "execution_count": null,
   "id": "60e59363",
   "metadata": {},
   "outputs": [],
   "source": [
    "target = df.pop('arnhem_waterlevel')"
   ]
  },
  {
   "cell_type": "code",
   "execution_count": null,
   "id": "a22370b0",
   "metadata": {},
   "outputs": [],
   "source": [
    "target_nans = ~target.isna()\n",
    "features, target = df.loc[target_nans], target.loc[target_nans]"
   ]
  },
  {
   "cell_type": "code",
   "execution_count": null,
   "id": "d8ba96c0",
   "metadata": {},
   "outputs": [],
   "source": [
    "ddf = features.describe().T.sort_values('count')\n",
    "\n",
    "print('original', features.shape)\n",
    "for main_n in range(10):\n",
    "    subset = ddf.loc[ddf['count'] > np.max(ddf['count'].values) * (main_n/10)]\n",
    "    subdf = features[subset.index[::-1]]\n",
    "\n",
    "    for sub_n in range(11):\n",
    "        ind = (~subdf.isna()).mean(axis=1) >= sub_n/10\n",
    "        path = f'subsets//{main_n}-{sub_n}.csv'\n",
    "        subdf.loc[ind].dropna(axis=1, how='all').to_csv(path)"
   ]
  },
  {
   "cell_type": "code",
   "execution_count": null,
   "id": "68f77452",
   "metadata": {},
   "outputs": [],
   "source": [
    "def knn_impute(formpath, topath):\n",
    "    print(formpath)\n",
    "    subset = pd.read_csv(formpath, index_col=0)\n",
    "\n",
    "    imp_mean = KNNImputer(\n",
    "        missing_values=np.nan,\n",
    "        n_neighbors=270,\n",
    "        keep_empty_features=True\n",
    "    )\n",
    "\n",
    "    pd.DataFrame(\n",
    "        imp_mean.fit_transform(subset.values),\n",
    "        index=subset.index,\n",
    "        columns=subset.columns\n",
    "    ).to_csv(topath)"
   ]
  },
  {
   "cell_type": "code",
   "execution_count": null,
   "id": "0a119856",
   "metadata": {},
   "outputs": [],
   "source": [
    "import glob\n",
    "\n",
    "files = glob.glob('subsets\\\\*.csv')"
   ]
  },
  {
   "cell_type": "code",
   "execution_count": null,
   "id": "b33f9a47",
   "metadata": {},
   "outputs": [],
   "source": [
    "# knn_impute('subsets\\\\8-8.csv', 'imputed_subsets\\\\8-8.csv')\n",
    "for file in files[::-1]:\n",
    "    knn_impute(file, file.replace('subsets', 'imputed_subsets'))"
   ]
  },
  {
   "cell_type": "code",
   "execution_count": null,
   "id": "f17566d2",
   "metadata": {},
   "outputs": [],
   "source": [
    "import matplotlib.pyplot as plt\n",
    "plt.rcParams[\"figure.figsize\"] = (20,3)"
   ]
  },
  {
   "cell_type": "code",
   "execution_count": null,
   "id": "49268fef",
   "metadata": {},
   "outputs": [],
   "source": [
    "subplots = []\n",
    "for name in df.columns[3:]:\n",
    "    df_count, df_bin = np.histogram(df[name].dropna().values, bins=200, density=True)\n",
    "    plt.stairs(df_count, df_bin, label='original', linewidth=2)\n",
    "\n",
    "    subplot = pd.Series(dtype=object, name=name)\n",
    "    for file in files:\n",
    "        dv = pd.read_csv(file.replace('subsets', 'imputed_subsets'), index_col=0)\n",
    "\n",
    "        try:\n",
    "            dv_count, dv_bin = np.histogram(dv[name].values, bins=200, density=True)\n",
    "\n",
    "            in_match = pd.concat([\n",
    "                pd.Series(df_count, index=df_bin[:-1]),\n",
    "                pd.Series(dv_count, index=dv_bin[:-1])\n",
    "            ], axis=1)\n",
    "            in_match = in_match.groupby(in_match.index.astype(int)).mean().dropna()\n",
    "            \n",
    "            subplot[np.min(np.corrcoef(*in_match.T.values))] = (file.replace('subsets', '').replace('.csv', ''), dv_count, dv_bin)\n",
    "        except KeyError:\n",
    "            pass\n",
    "    \n",
    "    subplots.append(pd.Series({v[0]: k for k, v in subplot.items()}, name=name))\n",
    "    subplot = subplot.sort_index(ascending=False).iloc[:9]\n",
    "    for _, (k, *v) in subplot.items():\n",
    "        plt.stairs(*v, label=k, linestyle='--', linewidth=.5)\n",
    "\n",
    "    \n",
    "    plt.title(name)\n",
    "    plt.legend(ncols=10, loc=1)\n",
    "    plt.show()"
   ]
  },
  {
   "cell_type": "code",
   "execution_count": null,
   "id": "85c42939",
   "metadata": {},
   "outputs": [],
   "source": [
    "pd.concat(subplots, axis=1).sum(axis=1).sort_values(ascending=False).iloc[:5]"
   ]
  },
  {
   "cell_type": "code",
   "execution_count": null,
   "id": "11927404",
   "metadata": {},
   "outputs": [],
   "source": [
    "\n",
    "index = pd.DatetimeIndex([datetime(y, m, d) for y, m, d in df[['measure_year', 'measure_month', 'measure_day']].values])\n",
    "\n",
    "for name in df.columns:\n",
    "    plt.plot(index, df[name])\n",
    "    plt.title(name)\n",
    "    plt.show()"
   ]
  }
 ],
 "metadata": {
  "kernelspec": {
   "display_name": "Python 3 (ipykernel)",
   "language": "python",
   "name": "python3"
  },
  "language_info": {
   "codemirror_mode": {
    "name": "ipython",
    "version": 3
   },
   "file_extension": ".py",
   "mimetype": "text/x-python",
   "name": "python",
   "nbconvert_exporter": "python",
   "pygments_lexer": "ipython3",
   "version": "3.10.4"
  },
  "vscode": {
   "interpreter": {
    "hash": "a5aeebfde2c62fb01e42f614fce7c49536e62d8a6a351477b92ae4eff18ba611"
   }
  }
 },
 "nbformat": 4,
 "nbformat_minor": 5
}
