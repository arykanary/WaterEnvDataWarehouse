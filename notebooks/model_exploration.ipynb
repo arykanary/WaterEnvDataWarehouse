{
 "cells": [
  {
   "cell_type": "markdown",
   "id": "78625b80",
   "metadata": {},
   "source": [
    "# Reading data & Selecting features"
   ]
  },
  {
   "cell_type": "code",
   "execution_count": null,
   "id": "78e5e557",
   "metadata": {},
   "outputs": [],
   "source": [
    "import psycopg2\n",
    "import pandas as pd\n",
    "\n",
    "conn_string = \"host='localhost' dbname='weather_env' user='postgres' password='postgres'\"\n",
    "conn = psycopg2.connect(conn_string)\n",
    "cur = conn.cursor()\n",
    "cur.execute(\"\"\"SELECT * FROM environment_data.pivoted;\"\"\")\n",
    "records = cur.fetchall()\n",
    "cur.close()\n",
    "df = pd.DataFrame(records, columns=[x[0] for x in cur.description])"
   ]
  },
  {
   "cell_type": "markdown",
   "id": "715c3e5e",
   "metadata": {},
   "source": [
    "# Exploring models\n",
    "## Scoring options\n",
    "- explained_variance\n",
    "- max_error\n",
    "- neg_mean_absolute_error\n",
    "- neg_mean_squared_error\n",
    "- neg_root_mean_squared_error\n",
    "- neg_mean_squared_log_error\n",
    "- neg_median_absolute_error\n",
    "- r2, neg_mean_poisson_deviance\n",
    "- neg_mean_gamma_deviance\n",
    "- neg_mean_absolute_percentage_error\n",
    "- d2_absolute_error_score\n",
    "- d2_pinball_score\n",
    "- d2_tweedie_score"
   ]
  },
  {
   "cell_type": "code",
   "execution_count": null,
   "id": "0fd4c1aa",
   "metadata": {},
   "outputs": [],
   "source": [
    "ddf = df.describe().T.sort_values('count')\n",
    "n = 0.5\n",
    "subset = ddf.loc[ddf['count'] > max(ddf['count'].values)*n]\n",
    "subdf = df[subset.index[::-1]].dropna()\n",
    "subdf.columns"
   ]
  },
  {
   "cell_type": "code",
   "execution_count": null,
   "id": "cf0b714e",
   "metadata": {},
   "outputs": [],
   "source": [
    "from sklearn.model_selection import cross_validate, GridSearchCV\n",
    "import numpy as np"
   ]
  },
  {
   "cell_type": "code",
   "execution_count": null,
   "id": "0f79403c",
   "metadata": {},
   "outputs": [],
   "source": [
    "target = subdf.pop('arnhem_waterlevel')\n",
    "features, target = subdf.values, target.values"
   ]
  },
  {
   "cell_type": "code",
   "execution_count": null,
   "id": "dab78f16",
   "metadata": {},
   "outputs": [],
   "source": [
    "random_sel = np.random.randint(0, len(features)-1, int(len(features)/100))\n",
    "features, target = features[random_sel], target[random_sel]\n",
    "print(features.shape)"
   ]
  },
  {
   "attachments": {},
   "cell_type": "markdown",
   "id": "9c748b1c",
   "metadata": {},
   "source": [
    "# KNeighborsRegressor\n",
    "\n",
    "K = 270 seems best with 96%"
   ]
  },
  {
   "cell_type": "code",
   "execution_count": null,
   "id": "20ce2359",
   "metadata": {},
   "outputs": [],
   "source": [
    "from sklearn.neighbors import KNeighborsRegressor\n",
    "\n",
    "parameters = {\n",
    "    'n_neighbors': [270],\n",
    "}\n",
    "model = KNeighborsRegressor()\n",
    "\n",
    "gscv = GridSearchCV(\n",
    "    model,\n",
    "    parameters,\n",
    "    cv=10,\n",
    "    scoring=('r2'),\n",
    ")"
   ]
  },
  {
   "cell_type": "code",
   "execution_count": null,
   "id": "4a718f29",
   "metadata": {},
   "outputs": [],
   "source": [
    "gscv.fit(features, target)"
   ]
  },
  {
   "cell_type": "code",
   "execution_count": null,
   "id": "7611cee5",
   "metadata": {},
   "outputs": [],
   "source": [
    "pd.DataFrame(gscv.cv_results_).sort_values('rank_test_score').drop(['split0_test_score', 'split1_test_score', 'split2_test_score', 'split3_test_score', 'split4_test_score',\n",
    "                                                                    'split5_test_score', 'split6_test_score', 'split7_test_score', 'split8_test_score', 'split9_test_score',\n",
    "                                                                    'std_fit_time', 'std_score_time'], axis=1).head(10)"
   ]
  },
  {
   "cell_type": "code",
   "execution_count": null,
   "id": "d4c4eb83",
   "metadata": {},
   "outputs": [],
   "source": [
    "n = np.random.randint(0, features.shape[0], size=10)\n",
    "print(\n",
    "    gscv.best_estimator_,\n",
    "    gscv.best_score_,\n",
    "    gscv.best_params_,\n",
    "    features[n],\n",
    "    target[n],\n",
    "    np.round(gscv.predict(features[n]), 0),\n",
    "    sep='\\n'\n",
    ")"
   ]
  },
  {
   "attachments": {},
   "cell_type": "markdown",
   "id": "97115c21",
   "metadata": {},
   "source": [
    "# SVR\n",
    "\n",
    "A poly kernel of the second degree seems best with 90%"
   ]
  },
  {
   "cell_type": "code",
   "execution_count": null,
   "id": "7b5fb4cf",
   "metadata": {},
   "outputs": [],
   "source": [
    "from sklearn.svm import SVR\n",
    "\n",
    "parameters = {\n",
    "    'kernel':['poly', 'linear'],\n",
    "    'degree': [2,],\n",
    "    'C':[100000],\n",
    "    'epsilon': [25]\n",
    "}\n",
    "model = SVR()\n",
    "\n",
    "gscv = GridSearchCV(\n",
    "    model,\n",
    "    parameters,\n",
    "    cv=10,\n",
    "    scoring=('r2'),\n",
    ")"
   ]
  },
  {
   "cell_type": "code",
   "execution_count": null,
   "id": "d3e0b3b5",
   "metadata": {},
   "outputs": [],
   "source": [
    "gscv.fit(features, target)"
   ]
  },
  {
   "cell_type": "code",
   "execution_count": null,
   "id": "4a3481fd",
   "metadata": {},
   "outputs": [],
   "source": [
    "pd.DataFrame(gscv.cv_results_).sort_values('rank_test_score').drop(['split0_test_score', 'split1_test_score', 'split2_test_score', 'split3_test_score', 'split4_test_score',\n",
    "                                                                    'split5_test_score', 'split6_test_score', 'split7_test_score', 'split8_test_score', 'split9_test_score',\n",
    "                                                                    'std_fit_time', 'std_score_time'], axis=1).head(10)"
   ]
  },
  {
   "cell_type": "code",
   "execution_count": null,
   "id": "5ac982dc",
   "metadata": {},
   "outputs": [],
   "source": [
    "n = np.random.randint(0, features.shape[0], size=10)\n",
    "print(\n",
    "    gscv.best_estimator_,\n",
    "    gscv.best_score_,\n",
    "    gscv.best_params_,\n",
    "    features[n],\n",
    "    target[n],\n",
    "    np.round(gscv.predict(features[n]), 0),\n",
    "    sep='\\n'\n",
    ")"
   ]
  },
  {
   "attachments": {},
   "cell_type": "markdown",
   "id": "b8d617d2",
   "metadata": {},
   "source": [
    "# LinearRegression\n",
    "\n",
    "GridSearch has no use with LinearRegression. Performs quite good with 96%"
   ]
  },
  {
   "cell_type": "code",
   "execution_count": null,
   "id": "9c575071",
   "metadata": {},
   "outputs": [],
   "source": [
    "from sklearn.linear_model import LinearRegression\n",
    "\n",
    "model = LinearRegression()\n",
    "\n",
    "gscv = cross_validate(\n",
    "    model,\n",
    "    features,\n",
    "    target,\n",
    "    cv=10,\n",
    "    scoring=('r2'),\n",
    "    return_estimator=True\n",
    ")"
   ]
  },
  {
   "cell_type": "code",
   "execution_count": null,
   "id": "88a93abe",
   "metadata": {},
   "outputs": [],
   "source": [
    "scores = gscv['test_score']\n",
    "models = gscv['estimator']\n",
    "best_model = models[np.argmax(scores)]\n",
    "print(\n",
    "    best_model,\n",
    "    np.max(scores)\n",
    ")"
   ]
  },
  {
   "cell_type": "code",
   "execution_count": null,
   "id": "2c1c4448",
   "metadata": {},
   "outputs": [],
   "source": [
    "n = np.random.randint(0, features.shape[0], size=10)\n",
    "print(\n",
    "    best_model,\n",
    "    features[n],\n",
    "    target[n],\n",
    "    np.round(best_model.predict(features[n]), 0),\n",
    "    sep='\\n'\n",
    ")"
   ]
  },
  {
   "attachments": {},
   "cell_type": "markdown",
   "id": "9ec96a55",
   "metadata": {},
   "source": [
    "# RigdeRegression\n",
    "\n",
    "LinearRegresion is better & Parameters seem to have no effect with 87%"
   ]
  },
  {
   "cell_type": "code",
   "execution_count": null,
   "id": "0f282bbd",
   "metadata": {},
   "outputs": [],
   "source": [
    "from sklearn.linear_model import Ridge\n",
    "\n",
    "parameters = {\n",
    "    'alpha': [1, 50, 500, 5000]\n",
    "}\n",
    "model = Ridge()\n",
    "\n",
    "gscv = GridSearchCV(\n",
    "    model,\n",
    "    parameters,\n",
    "    cv=10,\n",
    "    scoring=('r2'),\n",
    ")"
   ]
  },
  {
   "cell_type": "code",
   "execution_count": null,
   "id": "0616a281",
   "metadata": {},
   "outputs": [],
   "source": [
    "gscv.fit(features, target)"
   ]
  },
  {
   "cell_type": "code",
   "execution_count": null,
   "id": "af552f08",
   "metadata": {},
   "outputs": [],
   "source": [
    "pd.DataFrame(gscv.cv_results_).sort_values('rank_test_score').drop(['split0_test_score', 'split1_test_score', 'split2_test_score', 'split3_test_score', 'split4_test_score',\n",
    "                                                                    'split5_test_score', 'split6_test_score', 'split7_test_score', 'split8_test_score', 'split9_test_score',\n",
    "                                                                    'std_fit_time', 'std_score_time'], axis=1).head(10)"
   ]
  },
  {
   "cell_type": "code",
   "execution_count": null,
   "id": "1e7e5656",
   "metadata": {},
   "outputs": [],
   "source": [
    "n = np.random.randint(0, features.shape[0], size=10)\n",
    "print(\n",
    "    gscv.best_estimator_,\n",
    "    gscv.best_score_,\n",
    "    gscv.best_params_,\n",
    "    features[n],\n",
    "    target[n],\n",
    "    np.round(gscv.predict(features[n]), 0),\n",
    "    sep='\\n'\n",
    ")"
   ]
  },
  {
   "attachments": {},
   "cell_type": "markdown",
   "id": "827046da",
   "metadata": {},
   "source": [
    "# LassoRegression\n",
    "\n",
    "LinearRegresion is better & Parameters seem to have no effect with 87%"
   ]
  },
  {
   "cell_type": "code",
   "execution_count": null,
   "id": "705008dd",
   "metadata": {},
   "outputs": [],
   "source": [
    "from sklearn.linear_model import Lasso\n",
    "\n",
    "parameters = {\n",
    "    'alpha': [1, 50, 500, 5000]\n",
    "}\n",
    "model = Lasso()\n",
    "\n",
    "gscv = GridSearchCV(\n",
    "    model,\n",
    "    parameters,\n",
    "    cv=10,\n",
    "    scoring=('r2'),\n",
    ")"
   ]
  },
  {
   "cell_type": "code",
   "execution_count": null,
   "id": "e81aeb36",
   "metadata": {},
   "outputs": [],
   "source": [
    "gscv.fit(features, target)"
   ]
  },
  {
   "cell_type": "code",
   "execution_count": null,
   "id": "739e831b",
   "metadata": {},
   "outputs": [],
   "source": [
    "pd.DataFrame(gscv.cv_results_).sort_values('rank_test_score').drop(['split0_test_score', 'split1_test_score', 'split2_test_score', 'split3_test_score', 'split4_test_score',\n",
    "                                                                    'split5_test_score', 'split6_test_score', 'split7_test_score', 'split8_test_score', 'split9_test_score',\n",
    "                                                                    'std_fit_time', 'std_score_time'], axis=1).head(10)"
   ]
  },
  {
   "cell_type": "code",
   "execution_count": null,
   "id": "2de29d3e",
   "metadata": {},
   "outputs": [],
   "source": [
    "n = np.random.randint(0, features.shape[0], size=10)\n",
    "print(\n",
    "    gscv.best_estimator_,\n",
    "    gscv.best_score_,\n",
    "    gscv.best_params_,\n",
    "    features[n],\n",
    "    target[n],\n",
    "    np.round(gscv.predict(features[n]), 0),\n",
    "    sep='\\n'\n",
    ")"
   ]
  },
  {
   "attachments": {},
   "cell_type": "markdown",
   "id": "16f3fdc2",
   "metadata": {},
   "source": [
    "# ElasticNet\n",
    "\n",
    "Parameters seem to have no effect, max score is 87%"
   ]
  },
  {
   "cell_type": "code",
   "execution_count": null,
   "id": "e4669baa",
   "metadata": {},
   "outputs": [],
   "source": [
    "from sklearn.linear_model import ElasticNet\n",
    "\n",
    "parameters = {\n",
    "    'alpha': [4],\n",
    "}\n",
    "model = ElasticNet()\n",
    "\n",
    "gscv = GridSearchCV(\n",
    "    model,\n",
    "    parameters,\n",
    "    cv=10,\n",
    "    scoring=('r2'),\n",
    ")"
   ]
  },
  {
   "cell_type": "code",
   "execution_count": null,
   "id": "d46b534c",
   "metadata": {},
   "outputs": [],
   "source": [
    "gscv.fit(features, target)"
   ]
  },
  {
   "cell_type": "code",
   "execution_count": null,
   "id": "e989ccd7",
   "metadata": {},
   "outputs": [],
   "source": [
    "pd.DataFrame(gscv.cv_results_).sort_values('rank_test_score').drop(['split0_test_score', 'split1_test_score', 'split2_test_score', 'split3_test_score', 'split4_test_score',\n",
    "                                                                    'split5_test_score', 'split6_test_score', 'split7_test_score', 'split8_test_score', 'split9_test_score',\n",
    "                                                                    'std_fit_time', 'std_score_time'], axis=1).head(10)"
   ]
  },
  {
   "cell_type": "code",
   "execution_count": null,
   "id": "69c43ba3",
   "metadata": {},
   "outputs": [],
   "source": [
    "n = np.random.randint(0, features.shape[0], size=10)\n",
    "print(\n",
    "    gscv.best_estimator_,\n",
    "    gscv.best_score_,\n",
    "    gscv.best_params_,\n",
    "    features[n],\n",
    "    target[n],\n",
    "    np.round(gscv.predict(features[n]), 0),\n",
    "    sep='\\n'\n",
    ")"
   ]
  },
  {
   "attachments": {},
   "cell_type": "markdown",
   "id": "9de47880",
   "metadata": {},
   "source": [
    "# DecisionTreeRegressor\n",
    "\n",
    "Parameters seem to have no effect, max score is 95%"
   ]
  },
  {
   "cell_type": "code",
   "execution_count": null,
   "id": "ac0082d4",
   "metadata": {},
   "outputs": [],
   "source": [
    "from sklearn.tree import DecisionTreeRegressor\n",
    "\n",
    "parameters = {\n",
    "    'max_depth': [None],\n",
    "}\n",
    "model = DecisionTreeRegressor()\n",
    "\n",
    "gscv = GridSearchCV(\n",
    "    model,\n",
    "    parameters,\n",
    "    cv=10,\n",
    "    scoring=('r2'),\n",
    ")"
   ]
  },
  {
   "cell_type": "code",
   "execution_count": null,
   "id": "3d34b048",
   "metadata": {},
   "outputs": [],
   "source": [
    "gscv.fit(features, target)"
   ]
  },
  {
   "cell_type": "code",
   "execution_count": null,
   "id": "eba7e422",
   "metadata": {},
   "outputs": [],
   "source": [
    "pd.DataFrame(gscv.cv_results_).sort_values('rank_test_score').drop(['split0_test_score', 'split1_test_score', 'split2_test_score', 'split3_test_score', 'split4_test_score',\n",
    "                                                                    'split5_test_score', 'split6_test_score', 'split7_test_score', 'split8_test_score', 'split9_test_score',\n",
    "                                                                    'std_fit_time', 'std_score_time'], axis=1).head(10)"
   ]
  },
  {
   "cell_type": "code",
   "execution_count": null,
   "id": "e30bc343",
   "metadata": {},
   "outputs": [],
   "source": [
    "n = np.random.randint(0, features.shape[0], size=10)\n",
    "print(\n",
    "    gscv.best_estimator_,\n",
    "    gscv.best_score_,\n",
    "    gscv.best_params_,\n",
    "    features[n],\n",
    "    np.round(target[n], 0),\n",
    "    np.round(gscv.predict(features[n]), 0),\n",
    "    sep='\\n'\n",
    ")"
   ]
  },
  {
   "attachments": {},
   "cell_type": "markdown",
   "id": "b5fef049",
   "metadata": {},
   "source": [
    "# RandomforestRegressor\n",
    "\n",
    "200 estimators seems best with 97%"
   ]
  },
  {
   "cell_type": "code",
   "execution_count": null,
   "id": "be7b8767",
   "metadata": {},
   "outputs": [],
   "source": [
    "from sklearn.ensemble import RandomForestRegressor\n",
    "\n",
    "parameters = {\n",
    "    'n_estimators':[200],\n",
    "}\n",
    "model = RandomForestRegressor()\n",
    "\n",
    "gscv = GridSearchCV(\n",
    "    model,\n",
    "    parameters,\n",
    "    cv=10,\n",
    "    scoring=('r2'),\n",
    ")"
   ]
  },
  {
   "cell_type": "code",
   "execution_count": null,
   "id": "51a235f1",
   "metadata": {},
   "outputs": [],
   "source": [
    "gscv.fit(features, target)"
   ]
  },
  {
   "cell_type": "code",
   "execution_count": null,
   "id": "548901a3",
   "metadata": {},
   "outputs": [],
   "source": [
    "pd.DataFrame(gscv.cv_results_).sort_values('rank_test_score').drop(['split0_test_score', 'split1_test_score', 'split2_test_score', 'split3_test_score', 'split4_test_score',\n",
    "                                                                    'split5_test_score', 'split6_test_score', 'split7_test_score', 'split8_test_score', 'split9_test_score',\n",
    "                                                                    'std_fit_time', 'std_score_time'], axis=1).head(10)"
   ]
  },
  {
   "cell_type": "code",
   "execution_count": null,
   "id": "cd8732ef",
   "metadata": {},
   "outputs": [],
   "source": [
    "n = np.random.randint(0, features.shape[0], size=10)\n",
    "print(\n",
    "    gscv.best_estimator_,\n",
    "    gscv.best_score_,\n",
    "    gscv.best_params_,\n",
    "    features[n],\n",
    "    target[n],\n",
    "    np.round(gscv.predict(features[n]), 0),\n",
    "    sep='\\n'\n",
    ")"
   ]
  }
 ],
 "metadata": {
  "kernelspec": {
   "display_name": "Python 3 (ipykernel)",
   "language": "python",
   "name": "python3"
  },
  "language_info": {
   "codemirror_mode": {
    "name": "ipython",
    "version": 3
   },
   "file_extension": ".py",
   "mimetype": "text/x-python",
   "name": "python",
   "nbconvert_exporter": "python",
   "pygments_lexer": "ipython3",
   "version": "3.10.4"
  },
  "vscode": {
   "interpreter": {
    "hash": "a5aeebfde2c62fb01e42f614fce7c49536e62d8a6a351477b92ae4eff18ba611"
   }
  }
 },
 "nbformat": 4,
 "nbformat_minor": 5
}
