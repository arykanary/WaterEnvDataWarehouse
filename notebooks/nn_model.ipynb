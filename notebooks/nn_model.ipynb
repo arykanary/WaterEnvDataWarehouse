{
 "cells": [
  {
   "attachments": {},
   "cell_type": "markdown",
   "metadata": {},
   "source": [
    "# Data import"
   ]
  },
  {
   "cell_type": "code",
   "execution_count": 1,
   "metadata": {},
   "outputs": [],
   "source": [
    "import psycopg2\n",
    "import pandas as pd\n",
    "import numpy as np"
   ]
  },
  {
   "cell_type": "code",
   "execution_count": 2,
   "metadata": {},
   "outputs": [],
   "source": [
    "\n",
    "conn_string = \"host='localhost' dbname='weather_env' user='postgres' password='postgres'\"\n",
    "conn = psycopg2.connect(conn_string)\n",
    "cur = conn.cursor()\n",
    "cur.execute(\"\"\"SELECT * FROM environment_data.pivoted;\"\"\")\n",
    "records = cur.fetchall()\n",
    "cur.close()\n",
    "df = pd.DataFrame(records, columns=[x[0] for x in cur.description])"
   ]
  },
  {
   "cell_type": "code",
   "execution_count": 3,
   "metadata": {},
   "outputs": [
    {
     "data": {
      "text/plain": [
       "(57738, 5)"
      ]
     },
     "execution_count": 3,
     "metadata": {},
     "output_type": "execute_result"
    }
   ],
   "source": [
    "ddf = df.describe().T\n",
    "subdif = .5\n",
    "cols = (ddf['count'] > np.max(ddf['count'].values) * subdif).replace(False, np.nan).dropna().index\n",
    "df = df[cols].dropna()\n",
    "df.shape"
   ]
  },
  {
   "cell_type": "code",
   "execution_count": 4,
   "metadata": {},
   "outputs": [],
   "source": [
    "import sys\n",
    "sys.path.append(r'C:\\Users\\woute\\Documents\\GitHub\\WaterEnvDataWarehouse\\dags')\n",
    "from common.windowing import WindowGenerator"
   ]
  },
  {
   "cell_type": "code",
   "execution_count": 5,
   "metadata": {},
   "outputs": [],
   "source": [
    "import tensorflow as tf\n",
    "import tensorflow_addons as tfa\n",
    "import matplotlib.pyplot as plt"
   ]
  },
  {
   "attachments": {},
   "cell_type": "markdown",
   "metadata": {},
   "source": [
    "# TF example"
   ]
  },
  {
   "cell_type": "code",
   "execution_count": 6,
   "metadata": {},
   "outputs": [
    {
     "data": {
      "text/plain": [
       "((34642, 14, 5),\n",
       " array(['measure_year', 'measure_month', 'measure_day',\n",
       "        'lobith_waterlevel', 'arnhem_waterlevel'], dtype=object))"
      ]
     },
     "execution_count": 6,
     "metadata": {},
     "output_type": "execute_result"
    }
   ],
   "source": [
    "look_back, shift, look_fore = 7*2, 0, 1\n",
    "wg = WindowGenerator(\n",
    "    df,\n",
    "    name=None,\n",
    "    distribution=(look_back, shift, look_fore),\n",
    "    delete_target=False,\n",
    "    split=(.6, .3, .1),\n",
    "    normalizer=True\n",
    ")\n",
    "wg()\n",
    "wg.train[0].shape, df.columns.values"
   ]
  },
  {
   "cell_type": "code",
   "execution_count": 7,
   "metadata": {},
   "outputs": [],
   "source": [
    "model = tf.keras.Sequential([\n",
    "    # tf.keras.layers.LSTM(128, 'relu', return_sequences=True, input_shape=wg.train[0].shape[1:], dropout=.0, recurrent_dropout=.0,),\n",
    "    # tf.keras.layers.Conv1D(32, activation='relu', kernel_size=(look_back, )),\n",
    "    # tf.keras.layers.LSTM(128, 'relu', return_sequences=True),\n",
    "    tf.keras.layers.Flatten(),\n",
    "    # tf.keras.layers.Dropout(.5),\n",
    "    # tf.keras.layers.Dense(128),\n",
    "    # tf.keras.layers.Dense(128),\n",
    "    tf.keras.layers.Dense(look_fore*wg.col),\n",
    "    tf.keras.layers.Reshape([look_fore, wg.col])\n",
    "])"
   ]
  },
  {
   "cell_type": "code",
   "execution_count": null,
   "metadata": {},
   "outputs": [],
   "source": [
    "metrics=[tf.metrics.MeanSquaredError()]\n",
    "\n",
    "model.compile(loss=tf.keras.losses.MeanSquaredError(), optimizer=tf.keras.optimizers.Adam(), metrics=metrics)\n",
    "    \n",
    "early_stopping = tf.keras.callbacks.EarlyStopping(monitor='val_mean_squared_error', patience=0)\n",
    "model.fit(*wg.train, epochs=100, callbacks=[early_stopping], validation_data=wg.valid, verbose=0)\n",
    "\n",
    "# model.summary()\n",
    "model.evaluate(*wg.train)\n",
    "model.evaluate(*wg.valid)\n",
    "model.evaluate(*wg.testd)"
   ]
  },
  {
   "cell_type": "code",
   "execution_count": 13,
   "metadata": {},
   "outputs": [
    {
     "data": {
      "text/html": [
       "<style>#sk-container-id-3 {color: black;background-color: white;}#sk-container-id-3 pre{padding: 0;}#sk-container-id-3 div.sk-toggleable {background-color: white;}#sk-container-id-3 label.sk-toggleable__label {cursor: pointer;display: block;width: 100%;margin-bottom: 0;padding: 0.3em;box-sizing: border-box;text-align: center;}#sk-container-id-3 label.sk-toggleable__label-arrow:before {content: \"▸\";float: left;margin-right: 0.25em;color: #696969;}#sk-container-id-3 label.sk-toggleable__label-arrow:hover:before {color: black;}#sk-container-id-3 div.sk-estimator:hover label.sk-toggleable__label-arrow:before {color: black;}#sk-container-id-3 div.sk-toggleable__content {max-height: 0;max-width: 0;overflow: hidden;text-align: left;background-color: #f0f8ff;}#sk-container-id-3 div.sk-toggleable__content pre {margin: 0.2em;color: black;border-radius: 0.25em;background-color: #f0f8ff;}#sk-container-id-3 input.sk-toggleable__control:checked~div.sk-toggleable__content {max-height: 200px;max-width: 100%;overflow: auto;}#sk-container-id-3 input.sk-toggleable__control:checked~label.sk-toggleable__label-arrow:before {content: \"▾\";}#sk-container-id-3 div.sk-estimator input.sk-toggleable__control:checked~label.sk-toggleable__label {background-color: #d4ebff;}#sk-container-id-3 div.sk-label input.sk-toggleable__control:checked~label.sk-toggleable__label {background-color: #d4ebff;}#sk-container-id-3 input.sk-hidden--visually {border: 0;clip: rect(1px 1px 1px 1px);clip: rect(1px, 1px, 1px, 1px);height: 1px;margin: -1px;overflow: hidden;padding: 0;position: absolute;width: 1px;}#sk-container-id-3 div.sk-estimator {font-family: monospace;background-color: #f0f8ff;border: 1px dotted black;border-radius: 0.25em;box-sizing: border-box;margin-bottom: 0.5em;}#sk-container-id-3 div.sk-estimator:hover {background-color: #d4ebff;}#sk-container-id-3 div.sk-parallel-item::after {content: \"\";width: 100%;border-bottom: 1px solid gray;flex-grow: 1;}#sk-container-id-3 div.sk-label:hover label.sk-toggleable__label {background-color: #d4ebff;}#sk-container-id-3 div.sk-serial::before {content: \"\";position: absolute;border-left: 1px solid gray;box-sizing: border-box;top: 0;bottom: 0;left: 50%;z-index: 0;}#sk-container-id-3 div.sk-serial {display: flex;flex-direction: column;align-items: center;background-color: white;padding-right: 0.2em;padding-left: 0.2em;position: relative;}#sk-container-id-3 div.sk-item {position: relative;z-index: 1;}#sk-container-id-3 div.sk-parallel {display: flex;align-items: stretch;justify-content: center;background-color: white;position: relative;}#sk-container-id-3 div.sk-item::before, #sk-container-id-3 div.sk-parallel-item::before {content: \"\";position: absolute;border-left: 1px solid gray;box-sizing: border-box;top: 0;bottom: 0;left: 50%;z-index: -1;}#sk-container-id-3 div.sk-parallel-item {display: flex;flex-direction: column;z-index: 1;position: relative;background-color: white;}#sk-container-id-3 div.sk-parallel-item:first-child::after {align-self: flex-end;width: 50%;}#sk-container-id-3 div.sk-parallel-item:last-child::after {align-self: flex-start;width: 50%;}#sk-container-id-3 div.sk-parallel-item:only-child::after {width: 0;}#sk-container-id-3 div.sk-dashed-wrapped {border: 1px dashed gray;margin: 0 0.4em 0.5em 0.4em;box-sizing: border-box;padding-bottom: 0.4em;background-color: white;}#sk-container-id-3 div.sk-label label {font-family: monospace;font-weight: bold;display: inline-block;line-height: 1.2em;}#sk-container-id-3 div.sk-label-container {text-align: center;}#sk-container-id-3 div.sk-container {/* jupyter's `normalize.less` sets `[hidden] { display: none; }` but bootstrap.min.css set `[hidden] { display: none !important; }` so we also need the `!important` here to be able to override the default hidden behavior on the sphinx rendered scikit-learn.org. See: https://github.com/scikit-learn/scikit-learn/issues/21755 */display: inline-block !important;position: relative;}#sk-container-id-3 div.sk-text-repr-fallback {display: none;}</style><div id=\"sk-container-id-3\" class=\"sk-top-container\"><div class=\"sk-text-repr-fallback\"><pre>KerasRegressor(\n",
       "\tmodel=&lt;keras.engine.sequential.Sequential object at 0x0000025CBB44AFB0&gt;\n",
       "\tbuild_fn=None\n",
       "\twarm_start=False\n",
       "\trandom_state=None\n",
       "\toptimizer=&lt;keras.optimizers.optimizer_experimental.adam.Adam object at 0x0000025CBD0FC280&gt;\n",
       "\tloss=&lt;keras.losses.MeanSquaredError object at 0x0000025CBD0FFBB0&gt;\n",
       "\tmetrics=[&lt;keras.metrics.metrics.MeanSquaredError object at 0x0000025CBD0FF550&gt;]\n",
       "\tbatch_size=None\n",
       "\tvalidation_batch_size=None\n",
       "\tverbose=1\n",
       "\tcallbacks=None\n",
       "\tvalidation_split=0.0\n",
       "\tshuffle=True\n",
       "\trun_eagerly=False\n",
       "\tepochs=10\n",
       ")</pre><b>In a Jupyter environment, please rerun this cell to show the HTML representation or trust the notebook. <br />On GitHub, the HTML representation is unable to render, please try loading this page with nbviewer.org.</b></div><div class=\"sk-container\" hidden><div class=\"sk-item\"><div class=\"sk-estimator sk-toggleable\"><input class=\"sk-toggleable__control sk-hidden--visually\" id=\"sk-estimator-id-5\" type=\"checkbox\" checked><label for=\"sk-estimator-id-5\" class=\"sk-toggleable__label sk-toggleable__label-arrow\">KerasRegressor</label><div class=\"sk-toggleable__content\"><pre>KerasRegressor(\n",
       "\tmodel=&lt;keras.engine.sequential.Sequential object at 0x0000025CBB44AFB0&gt;\n",
       "\tbuild_fn=None\n",
       "\twarm_start=False\n",
       "\trandom_state=None\n",
       "\toptimizer=&lt;keras.optimizers.optimizer_experimental.adam.Adam object at 0x0000025CBD0FC280&gt;\n",
       "\tloss=&lt;keras.losses.MeanSquaredError object at 0x0000025CBD0FFBB0&gt;\n",
       "\tmetrics=[&lt;keras.metrics.metrics.MeanSquaredError object at 0x0000025CBD0FF550&gt;]\n",
       "\tbatch_size=None\n",
       "\tvalidation_batch_size=None\n",
       "\tverbose=1\n",
       "\tcallbacks=None\n",
       "\tvalidation_split=0.0\n",
       "\tshuffle=True\n",
       "\trun_eagerly=False\n",
       "\tepochs=10\n",
       ")</pre></div></div></div></div></div>"
      ],
      "text/plain": [
       "KerasRegressor(\n",
       "\tmodel=<keras.engine.sequential.Sequential object at 0x0000025CBB44AFB0>\n",
       "\tbuild_fn=None\n",
       "\twarm_start=False\n",
       "\trandom_state=None\n",
       "\toptimizer=<keras.optimizers.optimizer_experimental.adam.Adam object at 0x0000025CBD0FC280>\n",
       "\tloss=<keras.losses.MeanSquaredError object at 0x0000025CBD0FFBB0>\n",
       "\tmetrics=[<keras.metrics.metrics.MeanSquaredError object at 0x0000025CBD0FF550>]\n",
       "\tbatch_size=None\n",
       "\tvalidation_batch_size=None\n",
       "\tverbose=1\n",
       "\tcallbacks=None\n",
       "\tvalidation_split=0.0\n",
       "\tshuffle=True\n",
       "\trun_eagerly=False\n",
       "\tepochs=10\n",
       ")"
      ]
     },
     "execution_count": 13,
     "metadata": {},
     "output_type": "execute_result"
    }
   ],
   "source": [
    "from scikeras.wrappers import KerasRegressor\n",
    "\n",
    "model.build(wg.train[0].shape[1:])\n",
    "\n",
    "sk_model = KerasRegressor(\n",
    "    model=model,\n",
    "    optimizer=tf.keras.optimizers.Adam(),\n",
    "    loss=tf.keras.losses.MeanSquaredError(),\n",
    "    metrics=[tf.metrics.MeanSquaredError()],\n",
    "    epochs=10\n",
    ")\n",
    "sk_model"
   ]
  },
  {
   "cell_type": "code",
   "execution_count": 14,
   "metadata": {},
   "outputs": [
    {
     "data": {
      "text/html": [
       "<style>#sk-container-id-4 {color: black;background-color: white;}#sk-container-id-4 pre{padding: 0;}#sk-container-id-4 div.sk-toggleable {background-color: white;}#sk-container-id-4 label.sk-toggleable__label {cursor: pointer;display: block;width: 100%;margin-bottom: 0;padding: 0.3em;box-sizing: border-box;text-align: center;}#sk-container-id-4 label.sk-toggleable__label-arrow:before {content: \"▸\";float: left;margin-right: 0.25em;color: #696969;}#sk-container-id-4 label.sk-toggleable__label-arrow:hover:before {color: black;}#sk-container-id-4 div.sk-estimator:hover label.sk-toggleable__label-arrow:before {color: black;}#sk-container-id-4 div.sk-toggleable__content {max-height: 0;max-width: 0;overflow: hidden;text-align: left;background-color: #f0f8ff;}#sk-container-id-4 div.sk-toggleable__content pre {margin: 0.2em;color: black;border-radius: 0.25em;background-color: #f0f8ff;}#sk-container-id-4 input.sk-toggleable__control:checked~div.sk-toggleable__content {max-height: 200px;max-width: 100%;overflow: auto;}#sk-container-id-4 input.sk-toggleable__control:checked~label.sk-toggleable__label-arrow:before {content: \"▾\";}#sk-container-id-4 div.sk-estimator input.sk-toggleable__control:checked~label.sk-toggleable__label {background-color: #d4ebff;}#sk-container-id-4 div.sk-label input.sk-toggleable__control:checked~label.sk-toggleable__label {background-color: #d4ebff;}#sk-container-id-4 input.sk-hidden--visually {border: 0;clip: rect(1px 1px 1px 1px);clip: rect(1px, 1px, 1px, 1px);height: 1px;margin: -1px;overflow: hidden;padding: 0;position: absolute;width: 1px;}#sk-container-id-4 div.sk-estimator {font-family: monospace;background-color: #f0f8ff;border: 1px dotted black;border-radius: 0.25em;box-sizing: border-box;margin-bottom: 0.5em;}#sk-container-id-4 div.sk-estimator:hover {background-color: #d4ebff;}#sk-container-id-4 div.sk-parallel-item::after {content: \"\";width: 100%;border-bottom: 1px solid gray;flex-grow: 1;}#sk-container-id-4 div.sk-label:hover label.sk-toggleable__label {background-color: #d4ebff;}#sk-container-id-4 div.sk-serial::before {content: \"\";position: absolute;border-left: 1px solid gray;box-sizing: border-box;top: 0;bottom: 0;left: 50%;z-index: 0;}#sk-container-id-4 div.sk-serial {display: flex;flex-direction: column;align-items: center;background-color: white;padding-right: 0.2em;padding-left: 0.2em;position: relative;}#sk-container-id-4 div.sk-item {position: relative;z-index: 1;}#sk-container-id-4 div.sk-parallel {display: flex;align-items: stretch;justify-content: center;background-color: white;position: relative;}#sk-container-id-4 div.sk-item::before, #sk-container-id-4 div.sk-parallel-item::before {content: \"\";position: absolute;border-left: 1px solid gray;box-sizing: border-box;top: 0;bottom: 0;left: 50%;z-index: -1;}#sk-container-id-4 div.sk-parallel-item {display: flex;flex-direction: column;z-index: 1;position: relative;background-color: white;}#sk-container-id-4 div.sk-parallel-item:first-child::after {align-self: flex-end;width: 50%;}#sk-container-id-4 div.sk-parallel-item:last-child::after {align-self: flex-start;width: 50%;}#sk-container-id-4 div.sk-parallel-item:only-child::after {width: 0;}#sk-container-id-4 div.sk-dashed-wrapped {border: 1px dashed gray;margin: 0 0.4em 0.5em 0.4em;box-sizing: border-box;padding-bottom: 0.4em;background-color: white;}#sk-container-id-4 div.sk-label label {font-family: monospace;font-weight: bold;display: inline-block;line-height: 1.2em;}#sk-container-id-4 div.sk-label-container {text-align: center;}#sk-container-id-4 div.sk-container {/* jupyter's `normalize.less` sets `[hidden] { display: none; }` but bootstrap.min.css set `[hidden] { display: none !important; }` so we also need the `!important` here to be able to override the default hidden behavior on the sphinx rendered scikit-learn.org. See: https://github.com/scikit-learn/scikit-learn/issues/21755 */display: inline-block !important;position: relative;}#sk-container-id-4 div.sk-text-repr-fallback {display: none;}</style><div id=\"sk-container-id-4\" class=\"sk-top-container\"><div class=\"sk-text-repr-fallback\"><pre>GridSearchCV(cv=10,\n",
       "             estimator=KerasRegressor(epochs=10, loss=&lt;keras.losses.MeanSquaredError object at 0x0000025CBD0FFBB0&gt;, metrics=[&lt;keras.metrics.metrics.MeanSquaredError object at 0x0000025CBD0FF550&gt;], model=&lt;keras.engine.sequential.Sequential object at 0x0000025CBB44AFB0&gt;, optimizer=&lt;keras.optimizers.optimizer_experimental.adam.Adam object at 0x0000025CBD0FC280&gt;),\n",
       "             param_grid={&#x27;epochs&#x27;: [10],\n",
       "                         &#x27;init&#x27;: [&#x27;glorot_uniform&#x27;, &#x27;normal&#x27;, &#x27;uniform&#x27;],\n",
       "                         &#x27;optimizers&#x27;: [&#x27;adam&#x27;]},\n",
       "             scoring=&#x27;r2&#x27;)</pre><b>In a Jupyter environment, please rerun this cell to show the HTML representation or trust the notebook. <br />On GitHub, the HTML representation is unable to render, please try loading this page with nbviewer.org.</b></div><div class=\"sk-container\" hidden><div class=\"sk-item sk-dashed-wrapped\"><div class=\"sk-label-container\"><div class=\"sk-label sk-toggleable\"><input class=\"sk-toggleable__control sk-hidden--visually\" id=\"sk-estimator-id-6\" type=\"checkbox\" ><label for=\"sk-estimator-id-6\" class=\"sk-toggleable__label sk-toggleable__label-arrow\">GridSearchCV</label><div class=\"sk-toggleable__content\"><pre>GridSearchCV(cv=10,\n",
       "             estimator=KerasRegressor(epochs=10, loss=&lt;keras.losses.MeanSquaredError object at 0x0000025CBD0FFBB0&gt;, metrics=[&lt;keras.metrics.metrics.MeanSquaredError object at 0x0000025CBD0FF550&gt;], model=&lt;keras.engine.sequential.Sequential object at 0x0000025CBB44AFB0&gt;, optimizer=&lt;keras.optimizers.optimizer_experimental.adam.Adam object at 0x0000025CBD0FC280&gt;),\n",
       "             param_grid={&#x27;epochs&#x27;: [10],\n",
       "                         &#x27;init&#x27;: [&#x27;glorot_uniform&#x27;, &#x27;normal&#x27;, &#x27;uniform&#x27;],\n",
       "                         &#x27;optimizers&#x27;: [&#x27;adam&#x27;]},\n",
       "             scoring=&#x27;r2&#x27;)</pre></div></div></div><div class=\"sk-parallel\"><div class=\"sk-parallel-item\"><div class=\"sk-item\"><div class=\"sk-label-container\"><div class=\"sk-label sk-toggleable\"><input class=\"sk-toggleable__control sk-hidden--visually\" id=\"sk-estimator-id-7\" type=\"checkbox\" ><label for=\"sk-estimator-id-7\" class=\"sk-toggleable__label sk-toggleable__label-arrow\">estimator: KerasRegressor</label><div class=\"sk-toggleable__content\"><pre>KerasRegressor(\n",
       "\tmodel=&lt;keras.engine.sequential.Sequential object at 0x0000025CBB44AFB0&gt;\n",
       "\tbuild_fn=None\n",
       "\twarm_start=False\n",
       "\trandom_state=None\n",
       "\toptimizer=&lt;keras.optimizers.optimizer_experimental.adam.Adam object at 0x0000025CBD0FC280&gt;\n",
       "\tloss=&lt;keras.losses.MeanSquaredError object at 0x0000025CBD0FFBB0&gt;\n",
       "\tmetrics=[&lt;keras.metrics.metrics.MeanSquaredError object at 0x0000025CBD0FF550&gt;]\n",
       "\tbatch_size=None\n",
       "\tvalidation_batch_size=None\n",
       "\tverbose=1\n",
       "\tcallbacks=None\n",
       "\tvalidation_split=0.0\n",
       "\tshuffle=True\n",
       "\trun_eagerly=False\n",
       "\tepochs=10\n",
       ")</pre></div></div></div><div class=\"sk-serial\"><div class=\"sk-item\"><div class=\"sk-estimator sk-toggleable\"><input class=\"sk-toggleable__control sk-hidden--visually\" id=\"sk-estimator-id-8\" type=\"checkbox\" ><label for=\"sk-estimator-id-8\" class=\"sk-toggleable__label sk-toggleable__label-arrow\">KerasRegressor</label><div class=\"sk-toggleable__content\"><pre>KerasRegressor(\n",
       "\tmodel=&lt;keras.engine.sequential.Sequential object at 0x0000025CBB44AFB0&gt;\n",
       "\tbuild_fn=None\n",
       "\twarm_start=False\n",
       "\trandom_state=None\n",
       "\toptimizer=&lt;keras.optimizers.optimizer_experimental.adam.Adam object at 0x0000025CBD0FC280&gt;\n",
       "\tloss=&lt;keras.losses.MeanSquaredError object at 0x0000025CBD0FFBB0&gt;\n",
       "\tmetrics=[&lt;keras.metrics.metrics.MeanSquaredError object at 0x0000025CBD0FF550&gt;]\n",
       "\tbatch_size=None\n",
       "\tvalidation_batch_size=None\n",
       "\tverbose=1\n",
       "\tcallbacks=None\n",
       "\tvalidation_split=0.0\n",
       "\tshuffle=True\n",
       "\trun_eagerly=False\n",
       "\tepochs=10\n",
       ")</pre></div></div></div></div></div></div></div></div></div></div>"
      ],
      "text/plain": [
       "GridSearchCV(cv=10,\n",
       "             estimator=KerasRegressor(epochs=10, loss=<keras.losses.MeanSquaredError object at 0x0000025CBD0FFBB0>, metrics=[<keras.metrics.metrics.MeanSquaredError object at 0x0000025CBD0FF550>], model=<keras.engine.sequential.Sequential object at 0x0000025CBB44AFB0>, optimizer=<keras.optimizers.optimizer_experimental.adam.Adam object at 0x0000025CBD0FC280>),\n",
       "             param_grid={'epochs': [10],\n",
       "                         'init': ['glorot_uniform', 'normal', 'uniform'],\n",
       "                         'optimizers': ['adam']},\n",
       "             scoring='r2')"
      ]
     },
     "execution_count": 14,
     "metadata": {},
     "output_type": "execute_result"
    }
   ],
   "source": [
    "from sklearn.model_selection import GridSearchCV\n",
    "\n",
    "# 'model', 'build_fn', 'warm_start', 'random_state', 'optimizer', 'loss', 'metrics', 'batch_size',\n",
    "# 'validation_batch_size', 'verbose', 'callbacks', 'validation_split', 'shuffle', 'run_eagerly', 'epochs'\n",
    "parameters = {\n",
    "    'optimizers': ['adam', ], # 'rmsprop', ],\n",
    "    'init':       ['glorot_uniform', 'normal', 'uniform'],\n",
    "    'epochs':     [10, ],\n",
    "    # 'batches':    [5, 10, 20],\n",
    "}\n",
    "\n",
    "gscv = GridSearchCV(\n",
    "    sk_model,\n",
    "    parameters,\n",
    "    cv=10,\n",
    "    scoring=('r2'),\n",
    ")\n",
    "gscv"
   ]
  },
  {
   "cell_type": "code",
   "execution_count": 15,
   "metadata": {},
   "outputs": [
    {
     "name": "stdout",
     "output_type": "stream",
     "text": [
      "WARNING:tensorflow:Compiled the loaded model, but the compiled metrics have yet to be built. `model.compile_metrics` will be empty until you train or evaluate the model.\n",
      "INFO:tensorflow:Assets written to: C:\\Users\\woute\\AppData\\Local\\Temp\\tmps1yr5djo\\assets\n",
      "WARNING:tensorflow:No training configuration found in save file, so the model was *not* compiled. Compile it manually.\n"
     ]
    },
    {
     "ename": "AttributeError",
     "evalue": "'NoneType' object has no attribute 'build'",
     "output_type": "error",
     "traceback": [
      "\u001b[1;31m---------------------------------------------------------------------------\u001b[0m",
      "\u001b[1;31mAttributeError\u001b[0m                            Traceback (most recent call last)",
      "Cell \u001b[1;32mIn[15], line 1\u001b[0m\n\u001b[1;32m----> 1\u001b[0m gscv\u001b[39m.\u001b[39;49mfit(\u001b[39m*\u001b[39;49mwg\u001b[39m.\u001b[39;49mtrain)\n",
      "File \u001b[1;32mc:\\Users\\woute\\AppData\\Local\\Programs\\Python\\Python310\\lib\\site-packages\\sklearn\\model_selection\\_search.py:788\u001b[0m, in \u001b[0;36mBaseSearchCV.fit\u001b[1;34m(self, X, y, groups, **fit_params)\u001b[0m\n\u001b[0;32m    785\u001b[0m cv_orig \u001b[39m=\u001b[39m check_cv(\u001b[39mself\u001b[39m\u001b[39m.\u001b[39mcv, y, classifier\u001b[39m=\u001b[39mis_classifier(estimator))\n\u001b[0;32m    786\u001b[0m n_splits \u001b[39m=\u001b[39m cv_orig\u001b[39m.\u001b[39mget_n_splits(X, y, groups)\n\u001b[1;32m--> 788\u001b[0m base_estimator \u001b[39m=\u001b[39m clone(\u001b[39mself\u001b[39;49m\u001b[39m.\u001b[39;49mestimator)\n\u001b[0;32m    790\u001b[0m parallel \u001b[39m=\u001b[39m Parallel(n_jobs\u001b[39m=\u001b[39m\u001b[39mself\u001b[39m\u001b[39m.\u001b[39mn_jobs, pre_dispatch\u001b[39m=\u001b[39m\u001b[39mself\u001b[39m\u001b[39m.\u001b[39mpre_dispatch)\n\u001b[0;32m    792\u001b[0m fit_and_score_kwargs \u001b[39m=\u001b[39m \u001b[39mdict\u001b[39m(\n\u001b[0;32m    793\u001b[0m     scorer\u001b[39m=\u001b[39mscorers,\n\u001b[0;32m    794\u001b[0m     fit_params\u001b[39m=\u001b[39mfit_params,\n\u001b[1;32m   (...)\u001b[0m\n\u001b[0;32m    800\u001b[0m     verbose\u001b[39m=\u001b[39m\u001b[39mself\u001b[39m\u001b[39m.\u001b[39mverbose,\n\u001b[0;32m    801\u001b[0m )\n",
      "File \u001b[1;32mc:\\Users\\woute\\AppData\\Local\\Programs\\Python\\Python310\\lib\\site-packages\\sklearn\\base.py:89\u001b[0m, in \u001b[0;36mclone\u001b[1;34m(estimator, safe)\u001b[0m\n\u001b[0;32m     87\u001b[0m new_object_params \u001b[39m=\u001b[39m estimator\u001b[39m.\u001b[39mget_params(deep\u001b[39m=\u001b[39m\u001b[39mFalse\u001b[39;00m)\n\u001b[0;32m     88\u001b[0m \u001b[39mfor\u001b[39;00m name, param \u001b[39min\u001b[39;00m new_object_params\u001b[39m.\u001b[39mitems():\n\u001b[1;32m---> 89\u001b[0m     new_object_params[name] \u001b[39m=\u001b[39m clone(param, safe\u001b[39m=\u001b[39;49m\u001b[39mFalse\u001b[39;49;00m)\n\u001b[0;32m     90\u001b[0m new_object \u001b[39m=\u001b[39m klass(\u001b[39m*\u001b[39m\u001b[39m*\u001b[39mnew_object_params)\n\u001b[0;32m     91\u001b[0m params_set \u001b[39m=\u001b[39m new_object\u001b[39m.\u001b[39mget_params(deep\u001b[39m=\u001b[39m\u001b[39mFalse\u001b[39;00m)\n",
      "File \u001b[1;32mc:\\Users\\woute\\AppData\\Local\\Programs\\Python\\Python310\\lib\\site-packages\\sklearn\\base.py:70\u001b[0m, in \u001b[0;36mclone\u001b[1;34m(estimator, safe)\u001b[0m\n\u001b[0;32m     68\u001b[0m \u001b[39melif\u001b[39;00m \u001b[39mnot\u001b[39;00m \u001b[39mhasattr\u001b[39m(estimator, \u001b[39m\"\u001b[39m\u001b[39mget_params\u001b[39m\u001b[39m\"\u001b[39m) \u001b[39mor\u001b[39;00m \u001b[39misinstance\u001b[39m(estimator, \u001b[39mtype\u001b[39m):\n\u001b[0;32m     69\u001b[0m     \u001b[39mif\u001b[39;00m \u001b[39mnot\u001b[39;00m safe:\n\u001b[1;32m---> 70\u001b[0m         \u001b[39mreturn\u001b[39;00m copy\u001b[39m.\u001b[39;49mdeepcopy(estimator)\n\u001b[0;32m     71\u001b[0m     \u001b[39melse\u001b[39;00m:\n\u001b[0;32m     72\u001b[0m         \u001b[39mif\u001b[39;00m \u001b[39misinstance\u001b[39m(estimator, \u001b[39mtype\u001b[39m):\n",
      "File \u001b[1;32mc:\\Users\\woute\\AppData\\Local\\Programs\\Python\\Python310\\lib\\copy.py:153\u001b[0m, in \u001b[0;36mdeepcopy\u001b[1;34m(x, memo, _nil)\u001b[0m\n\u001b[0;32m    151\u001b[0m copier \u001b[39m=\u001b[39m \u001b[39mgetattr\u001b[39m(x, \u001b[39m\"\u001b[39m\u001b[39m__deepcopy__\u001b[39m\u001b[39m\"\u001b[39m, \u001b[39mNone\u001b[39;00m)\n\u001b[0;32m    152\u001b[0m \u001b[39mif\u001b[39;00m copier \u001b[39mis\u001b[39;00m \u001b[39mnot\u001b[39;00m \u001b[39mNone\u001b[39;00m:\n\u001b[1;32m--> 153\u001b[0m     y \u001b[39m=\u001b[39m copier(memo)\n\u001b[0;32m    154\u001b[0m \u001b[39melse\u001b[39;00m:\n\u001b[0;32m    155\u001b[0m     reductor \u001b[39m=\u001b[39m dispatch_table\u001b[39m.\u001b[39mget(\u001b[39mcls\u001b[39m)\n",
      "File \u001b[1;32mc:\\Users\\woute\\AppData\\Local\\Programs\\Python\\Python310\\lib\\site-packages\\scikeras\\_saving_utils.py:83\u001b[0m, in \u001b[0;36mdeepcopy_model\u001b[1;34m(model, memo)\u001b[0m\n\u001b[0;32m     81\u001b[0m \u001b[39mdef\u001b[39;00m \u001b[39mdeepcopy_model\u001b[39m(model: keras\u001b[39m.\u001b[39mModel, memo: Dict[Hashable, Any]) \u001b[39m-\u001b[39m\u001b[39m>\u001b[39m keras\u001b[39m.\u001b[39mModel:\n\u001b[0;32m     82\u001b[0m     _, (model_bytes,) \u001b[39m=\u001b[39m pack_keras_model(model)\n\u001b[1;32m---> 83\u001b[0m     new_model \u001b[39m=\u001b[39m unpack_keras_model(model_bytes)\n\u001b[0;32m     84\u001b[0m     memo[model] \u001b[39m=\u001b[39m new_model\n\u001b[0;32m     85\u001b[0m     \u001b[39mreturn\u001b[39;00m new_model\n",
      "File \u001b[1;32mc:\\Users\\woute\\AppData\\Local\\Programs\\Python\\Python310\\lib\\site-packages\\scikeras\\_saving_utils.py:53\u001b[0m, in \u001b[0;36munpack_keras_model\u001b[1;34m(packed_keras_model)\u001b[0m\n\u001b[0;32m     51\u001b[0m model: keras\u001b[39m.\u001b[39mModel \u001b[39m=\u001b[39m load_model(temp_dir)\n\u001b[0;32m     52\u001b[0m model\u001b[39m.\u001b[39mload_weights(temp_dir)\n\u001b[1;32m---> 53\u001b[0m model\u001b[39m.\u001b[39;49moptimizer\u001b[39m.\u001b[39;49mbuild(model\u001b[39m.\u001b[39mtrainable_variables)\n\u001b[0;32m     54\u001b[0m \u001b[39mreturn\u001b[39;00m model\n",
      "\u001b[1;31mAttributeError\u001b[0m: 'NoneType' object has no attribute 'build'"
     ]
    }
   ],
   "source": [
    "gscv.fit(*wg.train)"
   ]
  },
  {
   "cell_type": "code",
   "execution_count": null,
   "metadata": {},
   "outputs": [],
   "source": [
    "ref = (wg.testd[1].squeeze() * wg.feature_std + wg.feature_mean)[:, wg.col_num['arnhem_waterlevel']]\n",
    "pred = (model.predict(wg.testd[0]).squeeze() * wg.feature_std + wg.feature_mean)[:, wg.col_num['arnhem_waterlevel']]\n",
    "\n",
    "plt.plot(ref)\n",
    "plt.plot(pred)\n",
    "plt.ylim(800, 1000)\n",
    "plt.show()"
   ]
  },
  {
   "cell_type": "code",
   "execution_count": null,
   "metadata": {},
   "outputs": [],
   "source": [
    "plt.plot(wg.testd[1].squeeze()[:, wg.col_num['arnhem_waterlevel']][:150])\n",
    "\n",
    "n = wg.col_num['arnhem_waterlevel']\n",
    "p = wg.testd[0][[0]]\n",
    "\n",
    "for x in range(150):\n",
    "    new_p = p[:, 1:]\n",
    "    pred = model.predict(p, verbose=0)\n",
    "    p = np.concatenate([new_p, pred], axis=1)\n",
    "    plt.plot([x], p[0, 0, n], '.r')\n",
    "\n",
    "# plt.ylim(0, 1500)\n",
    "plt.show()"
   ]
  },
  {
   "attachments": {},
   "cell_type": "markdown",
   "metadata": {},
   "source": [
    "# Classification"
   ]
  },
  {
   "cell_type": "code",
   "execution_count": null,
   "metadata": {},
   "outputs": [],
   "source": [
    "import tensorflow as tf\n",
    "import tensorflow_addons as tfa\n",
    "import matplotlib.pyplot as plt"
   ]
  },
  {
   "cell_type": "code",
   "execution_count": null,
   "metadata": {},
   "outputs": [],
   "source": [
    "df['moved'] = (df['arnhem_waterlevel'] < 800).astype(int)\n",
    "df['arnhem_waterlevel'].count() / df['moved'].sum()"
   ]
  },
  {
   "cell_type": "code",
   "execution_count": null,
   "metadata": {},
   "outputs": [],
   "source": [
    "look_back, shift, look_fore = 28, 0, 1\n",
    "wg = WindowGenerator(\n",
    "    df,\n",
    "    name=None,\n",
    "    distribution=(look_back, shift, look_fore),\n",
    "    delete_target=False,\n",
    "    split=(.7, .2, .1),\n",
    "    shuffle=True\n",
    ")\n",
    "wg()\n",
    "wg.train[0].shape, wg.train[0][0, 0]"
   ]
  },
  {
   "cell_type": "code",
   "execution_count": null,
   "metadata": {},
   "outputs": [],
   "source": [
    "model = tf.keras.Sequential([\n",
    "    # tf.keras.layers.Normalization(axis=(1,2)),\n",
    "    tf.keras.layers.Conv1D(132, activation='relu', kernel_size=(look_back, )),\n",
    "    tf.keras.layers.Dense(look_fore*wg.col, kernel_initializer=tf.initializers.zeros()),\n",
    "    # tf.keras.layers.Dense(look_fore*wg.col*10),\n",
    "    # tf.keras.layers.Dense(look_fore*wg.col*10),\n",
    "    # tf.keras.layers.Dense(look_fore*wg.col*10),\n",
    "    tf.keras.layers.Dense(look_fore*wg.col),\n",
    "    tf.keras.layers.Reshape([look_fore, wg.col]),\n",
    "])"
   ]
  },
  {
   "cell_type": "code",
   "execution_count": null,
   "metadata": {},
   "outputs": [],
   "source": [
    "\n",
    "model.compile(loss=tf.keras.losses.BinaryCrossentropy(), optimizer=tf.keras.optimizers.Adam(), metrics=[tf.keras.metrics.Accuracy()])\n",
    "    \n",
    "early_stopping = tf.keras.callbacks.EarlyStopping(monitor='val_accuracy', patience=3)\n",
    "model.fit(*wg.train, epochs=100, callbacks=[early_stopping], validation_data=wg.valid)#, verbose=0)\n",
    "\n",
    "model.summary()"
   ]
  },
  {
   "cell_type": "code",
   "execution_count": null,
   "metadata": {},
   "outputs": [],
   "source": [
    "model.evaluate(*wg.train)\n",
    "model.evaluate(*wg.valid)\n",
    "model.evaluate(*wg.testd)\n",
    "\n",
    "plt.plot(wg.testd[1].squeeze()[:, wg.col_num['moved']])\n",
    "plt.plot(model.predict(wg.testd[0]).squeeze()[:, wg.col_num['moved']])\n",
    "plt.ylim(-1, 2)\n",
    "plt.show()"
   ]
  },
  {
   "cell_type": "code",
   "execution_count": null,
   "metadata": {},
   "outputs": [],
   "source": []
  }
 ],
 "metadata": {
  "kernelspec": {
   "display_name": "Python 3",
   "language": "python",
   "name": "python3"
  },
  "language_info": {
   "codemirror_mode": {
    "name": "ipython",
    "version": 3
   },
   "file_extension": ".py",
   "mimetype": "text/x-python",
   "name": "python",
   "nbconvert_exporter": "python",
   "pygments_lexer": "ipython3",
   "version": "3.10.4"
  },
  "orig_nbformat": 4,
  "vscode": {
   "interpreter": {
    "hash": "a5aeebfde2c62fb01e42f614fce7c49536e62d8a6a351477b92ae4eff18ba611"
   }
  }
 },
 "nbformat": 4,
 "nbformat_minor": 2
}
