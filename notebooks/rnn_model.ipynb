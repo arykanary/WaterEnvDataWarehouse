{
 "cells": [
  {
   "cell_type": "code",
   "execution_count": 1,
   "metadata": {},
   "outputs": [],
   "source": [
    "import psycopg2\n",
    "import pandas as pd\n",
    "\n",
    "conn_string = \"host='localhost' dbname='weather_env' user='postgres' password='postgres'\"\n",
    "conn = psycopg2.connect(conn_string)\n",
    "cur = conn.cursor()\n",
    "cur.execute(\"\"\"SELECT * FROM environment_data.pivoted;\"\"\")\n",
    "records = cur.fetchall()\n",
    "cur.close()\n",
    "df = pd.DataFrame(records, columns=[x[0] for x in cur.description])"
   ]
  },
  {
   "cell_type": "code",
   "execution_count": null,
   "metadata": {},
   "outputs": [],
   "source": [
    "ddf = df.describe().T.sort_values('count')\n",
    "n = 0.5\n",
    "subset = ddf.loc[ddf['count'] > max(ddf['count'].values)*n]\n",
    "subdf = df[subset.index[::-1]].dropna()\n",
    "subdf.columns"
   ]
  },
  {
   "attachments": {},
   "cell_type": "markdown",
   "metadata": {},
   "source": []
  },
  {
   "cell_type": "code",
   "execution_count": null,
   "metadata": {},
   "outputs": [],
   "source": [
    "from sklearn.model_selection import cross_validate, GridSearchCV\n",
    "import numpy as np"
   ]
  },
  {
   "cell_type": "code",
   "execution_count": null,
   "metadata": {},
   "outputs": [],
   "source": [
    "target = subdf.pop('arnhem_waterlevel')\n",
    "features, target = subdf.values, target.values"
   ]
  },
  {
   "cell_type": "code",
   "execution_count": null,
   "metadata": {},
   "outputs": [],
   "source": []
  }
 ],
 "metadata": {
  "kernelspec": {
   "display_name": "Python 3",
   "language": "python",
   "name": "python3"
  },
  "language_info": {
   "codemirror_mode": {
    "name": "ipython",
    "version": 3
   },
   "file_extension": ".py",
   "mimetype": "text/x-python",
   "name": "python",
   "nbconvert_exporter": "python",
   "pygments_lexer": "ipython3",
   "version": "3.10.4"
  },
  "orig_nbformat": 4,
  "vscode": {
   "interpreter": {
    "hash": "a5aeebfde2c62fb01e42f614fce7c49536e62d8a6a351477b92ae4eff18ba611"
   }
  }
 },
 "nbformat": 4,
 "nbformat_minor": 2
}
